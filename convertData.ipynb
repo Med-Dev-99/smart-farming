{
 "cells": [
  {
   "cell_type": "code",
   "execution_count": 4,
   "metadata": {},
   "outputs": [],
   "source": [
    "import csv,json\n",
    "\n",
    "csvFilePath=\"apple_data.csv\"\n",
    "jsonFilePath=\"IOTData1\"\n",
    "data={}\n",
    "with open(csvFilePath) as csvFile:\n",
    "    csvReader=csv.DictReader(csvFile)\n",
    "    for rows in csvReader:\n",
    "        id = rows[\"ph\"]\n",
    "\n",
    "        data[id]=rows\n",
    "\n",
    "with open(jsonFilePath,'w') as jsonFile:\n",
    "    jsonFile.write(json.dumps(data,indent=5))"
   ]
  }
 ],
 "metadata": {
  "kernelspec": {
   "display_name": "Python 3.10.7 64-bit ('3.10.7')",
   "language": "python",
   "name": "python3"
  },
  "language_info": {
   "codemirror_mode": {
    "name": "ipython",
    "version": 3
   },
   "file_extension": ".py",
   "mimetype": "text/x-python",
   "name": "python",
   "nbconvert_exporter": "python",
   "pygments_lexer": "ipython3",
   "version": "3.10.7"
  },
  "orig_nbformat": 4,
  "vscode": {
   "interpreter": {
    "hash": "9cf29104c396dfeda137d2d27ffc0d7f075cbcf9ce74b2e0b7cf6b08965cd798"
   }
  }
 },
 "nbformat": 4,
 "nbformat_minor": 2
}
